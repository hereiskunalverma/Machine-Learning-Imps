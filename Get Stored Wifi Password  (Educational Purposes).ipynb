{
 "metadata": {
  "language_info": {
   "codemirror_mode": {
    "name": "ipython",
    "version": 3
   },
   "file_extension": ".py",
   "mimetype": "text/x-python",
   "name": "python",
   "nbconvert_exporter": "python",
   "pygments_lexer": "ipython3",
   "version": "3.7.6-final"
  },
  "orig_nbformat": 2,
  "kernelspec": {
   "name": "python3",
   "display_name": "Python 3"
  }
 },
 "nbformat": 4,
 "nbformat_minor": 2,
 "cells": [
  {
   "cell_type": "code",
   "execution_count": 26,
   "metadata": {},
   "outputs": [],
   "source": [
    "# import necessary packages\n",
    "import subprocess # to get access to availble wifi networks\n"
   ]
  },
  {
   "cell_type": "code",
   "execution_count": 27,
   "metadata": {},
   "outputs": [],
   "source": [
    "# store user profile using subprocess.check_output\n",
    "data = subprocess.check_output(['netsh', 'wlan', 'show', 'profiles']).decode('utf-8').split('\\n')\n",
    "\n",
    "# store profile by converting them to list\n",
    "profiles = [i.split(\":\")[1][1:-1] for i in data if 'All User Profile' in i]\n"
   ]
  },
  {
   "cell_type": "code",
   "execution_count": 28,
   "metadata": {},
   "outputs": [
    {
     "output_type": "stream",
     "name": "stdout",
     "text": [
      "output cannot be shown :)"
     ]
    }
   ],
   "source": [
    "\n",
    "# print the wifi passwords if they are available \n",
    "for i in profiles:\n",
    "    # to check passwords\n",
    "    results = subprocess.check_output(['netsh', 'wlan', 'show', 'profile', i, \n",
    "                                        'key=clear']).decode('utf-8').split('\\n')\n",
    "        \n",
    "    # store passwords after converting them to list\n",
    "    results = [b.split(\":\")[1][1:-1] for b in results if \"Key Content\" in b]\n",
    "    # printing the profiles (wifi name) with their passwords \n",
    "    try:\n",
    "        print('{:<30}| {:<}'.format(i, results[0]))\n",
    "    except IndexError:\n",
    "        print('{:<30}| {:<}'.format(i, \"\"))"
   ]
  },
  {
   "cell_type": "code",
   "execution_count": null,
   "metadata": {},
   "outputs": [],
   "source": []
  }
 ]
}
